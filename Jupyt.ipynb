{
 "cells": [
  {
   "cell_type": "markdown",
   "metadata": {},
   "source": [
    "Análisis explotarorio de los datos"
   ]
  },
  {
   "cell_type": "code",
   "execution_count": null,
   "metadata": {},
   "outputs": [],
   "source": [
    "import pandas as pd\n",
    "import numpy as np\n",
    "import seaborn as sns\n",
    "import matplotlib.pyplot as plt\n",
    "from sklearn.model_selection import train_test_split\n",
    "\n",
    "\n",
    "train_file_path = 'train.csv'  \n",
    "dataset_df = pd.read_csv(train_file_path)\n",
    "\n",
    "\n",
    "print(\"Forma del conjunto de datos de entrenamiento:\", dataset_df.shape)\n",
    "\n",
    "# Elimina la columna 'Id' \n",
    "dataset_df = dataset_df.drop('Id', axis=1)\n",
    "\n",
    "\n",
    "print(dataset_df.head(3))\n",
    "\n",
    "# Describe la distribución de 'SalePrice'\n",
    "print(dataset_df['SalePrice'].describe())\n",
    "\n",
    "# Visualiza la distribución de 'SalePrice'\n",
    "plt.figure(figsize=(9, 8))\n",
    "sns.distplot(dataset_df['SalePrice'], color='g', bins=100, hist_kws={'alpha': 0.4})\n",
    "plt.title('Distribución de SalePrice')\n",
    "plt.xlabel('Precio de Venta')\n",
    "plt.ylabel('Frecuencia')\n",
    "plt.show()\n",
    "\n",
    "\n",
    "df_num = dataset_df.select_dtypes(include=['float64', 'int64'])\n",
    "df_num.drop(['SalePrice'], axis=1, inplace=True)  \n",
    "num_features = df_num.columns.tolist()\n",
    "num_rows = len(num_features) // 3 + (1 if len(num_features) % 3 > 0 else 0)\n",
    "\n",
    "\n",
    "plt.figure(figsize=(16, 4 * num_rows))\n",
    "for i, feature in enumerate(num_features):\n",
    "    plt.subplot(num_rows, 3, i + 1)\n",
    "    sns.histplot(df_num[feature], bins=50, kde=True)\n",
    "    plt.title(feature)\n",
    "plt.tight_layout()\n",
    "plt.show()\n"
   ]
  }
 ],
 "metadata": {
  "language_info": {
   "name": "python"
  }
 },
 "nbformat": 4,
 "nbformat_minor": 2
}
